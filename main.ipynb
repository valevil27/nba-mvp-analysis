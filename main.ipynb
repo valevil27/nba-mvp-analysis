{
 "cells": [
  {
   "cell_type": "markdown",
   "id": "8cab5f0f",
   "metadata": {},
   "source": [
    "# NBA Most Valorated Player Analysis"
   ]
  },
  {
   "cell_type": "code",
   "execution_count": 1,
   "id": "a995ec72",
   "metadata": {},
   "outputs": [],
   "source": [
    "import numpy as np\n",
    "import pandas as pd\n",
    "from pathlib import Path\n",
    "from time import sleep\n",
    "import requests\n",
    "import matplotlib.pyplot as plt\n",
    "%matplotlib inline\n",
    "import seaborn as sns\n",
    "sns.set()"
   ]
  },
  {
   "cell_type": "markdown",
   "id": "461c0e84",
   "metadata": {},
   "source": [
    "- votaciones: https://www.basketball-reference.com/awards/awards_1989.html#all_nba_mvp"
   ]
  }
 ],
 "metadata": {
  "kernelspec": {
   "display_name": "mvp-nba",
   "language": "python",
   "name": "python3"
  },
  "language_info": {
   "codemirror_mode": {
    "name": "ipython",
    "version": 3
   },
   "file_extension": ".py",
   "mimetype": "text/x-python",
   "name": "python",
   "nbconvert_exporter": "python",
   "pygments_lexer": "ipython3",
   "version": "3.12.7"
  }
 },
 "nbformat": 4,
 "nbformat_minor": 5
}
